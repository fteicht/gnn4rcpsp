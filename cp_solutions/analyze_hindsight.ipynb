{
 "cells": [
  {
   "cell_type": "code",
   "execution_count": null,
   "metadata": {},
   "outputs": [],
   "source": [
    "import json\n",
    "from collections import defaultdict\n",
    "\n",
    "import numpy as np\n",
    "from matplotlib import pyplot as plt\n",
    "%matplotlib widget"
   ]
  },
  {
   "cell_type": "code",
   "execution_count": null,
   "metadata": {},
   "outputs": [],
   "source": [
    "with open('../gnn4rcpsp/experiments/hindsight_vs_reactive_deadline_20221119132336.json', 'r') as jsonfile:\n",
    "    results = json.load(jsonfile)"
   ]
  },
  {
   "cell_type": "code",
   "execution_count": null,
   "metadata": {},
   "outputs": [],
   "source": [
    "algstats = defaultdict(lambda: defaultdict(lambda: []))\n",
    "\n",
    "for benchmark, scenarios in results.items():\n",
    "    for scenario, algorithms in scenarios.items():\n",
    "        for algorithm, statistics in algorithms.items():\n",
    "            if statistics['executed'] != 'Fail':\n",
    "                algstats[algorithm]['executed'].append(statistics['executed'])\n",
    "                algstats[algorithm]['timing'].append(statistics['timing'])\n",
    "                algstats[algorithm]['deadline'].append(int(statistics['executed'] <= statistics['deadline']))"
   ]
  },
  {
   "cell_type": "code",
   "execution_count": null,
   "metadata": {},
   "outputs": [],
   "source": [
    "fig, (ax1, ax2, ax3) = plt.subplots(nrows=3, ncols=1, figsize =(10, 7))\n",
    "ax1.boxplot([algstats[alg]['executed'] for alg in algstats], notch=True, patch_artist=True, vert=False)\n",
    "ax2.boxplot([algstats[alg]['deadline'] for alg in algstats], notch=True, patch_artist=True, vert=False)\n",
    "ax3.boxplot([algstats[alg]['timing'] for alg in algstats], notch=True, patch_artist=True, vert=False)\n",
    "for ax in [ax1, ax2, ax3]:\n",
    "    ax.set_yticks(np.arange(1, len(algstats)+1))\n",
    "    ax.set_yticklabels([alg for alg in algstats])\n",
    "plt.tight_layout()\n",
    "plt.show()"
   ]
  },
  {
   "cell_type": "code",
   "execution_count": null,
   "metadata": {},
   "outputs": [],
   "source": [
    "for alg in algstats:\n",
    "    print(f\"Deadline prob of {alg}: {np.mean(algstats[alg]['deadline'])}\")"
   ]
  }
 ],
 "metadata": {
  "kernelspec": {
   "display_name": "Python 3.8.15 ('rl4rcpsp')",
   "language": "python",
   "name": "python3"
  },
  "language_info": {
   "codemirror_mode": {
    "name": "ipython",
    "version": 3
   },
   "file_extension": ".py",
   "mimetype": "text/x-python",
   "name": "python",
   "nbconvert_exporter": "python",
   "pygments_lexer": "ipython3",
   "version": "3.8.15"
  },
  "orig_nbformat": 4,
  "vscode": {
   "interpreter": {
    "hash": "ea01d3ba5ec8e0e85fa445479db093e0b138facb1ec976d469b61d1b99d76976"
   }
  }
 },
 "nbformat": 4,
 "nbformat_minor": 2
}
