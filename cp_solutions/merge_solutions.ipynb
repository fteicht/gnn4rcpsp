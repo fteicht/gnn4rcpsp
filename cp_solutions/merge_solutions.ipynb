{
 "cells": [
  {
   "cell_type": "code",
   "execution_count": 2,
   "metadata": {},
   "outputs": [],
   "source": [
    "import json"
   ]
  },
  {
   "cell_type": "code",
   "execution_count": 10,
   "metadata": {},
   "outputs": [],
   "source": [
    "merged_results = {}\n",
    "\n",
    "with open('postpro_benchmark_cp_single_modes.json', 'r') as cp_file:\n",
    "    merged_results = json.load(cp_file)\n",
    "    \n",
    "with open('postpro_benchmark_lns_cp_single_modes.json', 'r') as lns_file:\n",
    "    lns_results = json.load(lns_file)\n",
    "    for bench, res in lns_results.items():\n",
    "        if res['fit']['makespan'] < merged_results[bench]['fit']['makespan']:\n",
    "            merged_results[bench] = res\n",
    "            \n",
    "with open('postpro_benchmark_merged_single_modes.json', 'w') as merged_file:\n",
    "    json.dump(merged_results, merged_file)"
   ]
  }
 ],
 "metadata": {
  "interpreter": {
   "hash": "15bb3ea2ec4a8b1a5a8aac58f04f3ebbb46942042221e8547ea273329fc9236f"
  },
  "kernelspec": {
   "display_name": "Python 3.8.5 ('gnn4rcpsp')",
   "language": "python",
   "name": "python3"
  },
  "language_info": {
   "codemirror_mode": {
    "name": "ipython",
    "version": 3
   },
   "file_extension": ".py",
   "mimetype": "text/x-python",
   "name": "python",
   "nbconvert_exporter": "python",
   "pygments_lexer": "ipython3",
   "version": "3.8.5"
  },
  "orig_nbformat": 4
 },
 "nbformat": 4,
 "nbformat_minor": 2
}
