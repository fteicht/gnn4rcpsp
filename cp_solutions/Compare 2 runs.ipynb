{
 "cells": [
  {
   "cell_type": "code",
   "execution_count": null,
   "id": "e4048b9c",
   "metadata": {},
   "outputs": [],
   "source": [
    "import json\n",
    "with open('inference_vs_dummysgs_20220921155057.json', 'r') as jsonfile:\n",
    "    dummy = json.load(jsonfile)\n",
    "with open('inference_vs_sgspostpro_20220921155057.json', 'r') as jsonfile:\n",
    "    sgs = json.load(jsonfile)"
   ]
  },
  {
   "cell_type": "code",
   "execution_count": null,
   "id": "8ddd241a",
   "metadata": {},
   "outputs": [],
   "source": [
    "print(dummy)"
   ]
  },
  {
   "cell_type": "code",
   "execution_count": null,
   "id": "4eb5b4eb",
   "metadata": {},
   "outputs": [],
   "source": [
    "import numpy as np\n",
    "common_keys = [k for k in dummy.keys() if k in sgs.keys()]\n",
    "makespan_dummy = np.array([dummy[k][\"feasibility_abs_makespan\"] for k in common_keys])\n",
    "makespan_sgs = np.array([sgs[k][\"feasibility_abs_makespan\"] for k in common_keys])"
   ]
  },
  {
   "cell_type": "code",
   "execution_count": null,
   "id": "dcef7b52",
   "metadata": {},
   "outputs": [],
   "source": [
    "rel = (makespan_dummy-makespan_sgs)/makespan_dummy*100"
   ]
  },
  {
   "cell_type": "code",
   "execution_count": null,
   "id": "ee47d265",
   "metadata": {},
   "outputs": [],
   "source": [
    "import seaborn as sns\n",
    "import scipy.stats"
   ]
  },
  {
   "cell_type": "code",
   "execution_count": null,
   "id": "d894520c",
   "metadata": {},
   "outputs": [],
   "source": [
    "print(\"Mean relative delta %: \", np.mean(rel), \"%\")\n",
    "print(\"Std of relative delta %: \", np.std(rel), \"%\")\n",
    "print(\"Median \", np.median(rel), \"%\")\n",
    "percentiles = [1, 10 ,25, 50, 75, 90, 99]\n",
    "print(\"percentiles \", percentiles, \",\\n\", np.percentile(rel, percentiles), \"%\")"
   ]
  },
  {
   "cell_type": "code",
   "execution_count": null,
   "id": "fe13ccea",
   "metadata": {},
   "outputs": [],
   "source": [
    "import matplotlib.pyplot as plt\n",
    "sns.distplot(rel)\n"
   ]
  },
  {
   "cell_type": "code",
   "execution_count": null,
   "id": "21e8cd89",
   "metadata": {},
   "outputs": [],
   "source": []
  }
 ],
 "metadata": {
  "kernelspec": {
   "display_name": "gnn_ftk",
   "language": "python",
   "name": "gnn_ftk"
  },
  "language_info": {
   "codemirror_mode": {
    "name": "ipython",
    "version": 3
   },
   "file_extension": ".py",
   "mimetype": "text/x-python",
   "name": "python",
   "nbconvert_exporter": "python",
   "pygments_lexer": "ipython3",
   "version": "3.8.13"
  }
 },
 "nbformat": 4,
 "nbformat_minor": 5
}
