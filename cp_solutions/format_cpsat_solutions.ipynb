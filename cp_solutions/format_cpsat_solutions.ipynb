{
 "cells": [
  {
   "cell_type": "code",
   "execution_count": 1,
   "metadata": {},
   "outputs": [],
   "source": [
    "import csv\n",
    "import json\n",
    "import torch\n",
    "from torch_geometric.data import DataLoader"
   ]
  },
  {
   "cell_type": "code",
   "execution_count": 2,
   "metadata": {},
   "outputs": [
    {
     "name": "stderr",
     "output_type": "stream",
     "text": [
      "/home/aws_install/.venvs/gnn4rcpsp/lib64/python3.8/site-packages/torch_geometric/deprecation.py:12: UserWarning: 'data.DataLoader' is deprecated, use 'loader.DataLoader' instead\n",
      "  warnings.warn(out)\n"
     ]
    }
   ],
   "source": [
    "data_list = torch.load('../gnn4rcpsp/data_list.tch')\n",
    "device = torch.device('cuda' if torch.cuda.is_available() else 'cpu')\n",
    "data_loader = DataLoader(data_list, batch_size=32, shuffle=False)\n",
    "bench_id = 0\n",
    "task_durs_per_instance = []\n",
    "for batch_idx, data_batch in enumerate(data_loader):\n",
    "    data_batch.to(device)\n",
    "    for data in data_batch.to_data_list():\n",
    "        task_durs_per_instance.append(data.dur.data.cpu().detach().numpy().tolist())\n",
    "        bench_id += 1"
   ]
  },
  {
   "cell_type": "code",
   "execution_count": null,
   "metadata": {},
   "outputs": [],
   "source": [
    "with open('bench_list.json', 'r') as f:\n",
    "    bench_list = json.load(f)"
   ]
  },
  {
   "cell_type": "code",
   "execution_count": 17,
   "metadata": {},
   "outputs": [],
   "source": [
    "cpsat_json_dict = {}\n",
    "\n",
    "with open('cpsat_solutions.csv', newline='') as csvfile:\n",
    "    reader = csv.reader(csvfile, delimiter=',')\n",
    "    instance_id = 0\n",
    "    previous_row = None\n",
    "    for row in reader:\n",
    "        if int(row[0]) != instance_id:\n",
    "            cpsat_json_dict.update({\n",
    "                bench_list[instance_id]: {\n",
    "                    'instance id': instance_id,\n",
    "                    'sol': {\n",
    "                        '_schedule_to_recompute': False,\n",
    "                        'rcpsp_schedule': {\n",
    "                            str(i+1): {\n",
    "                                'start_time': int(s),\n",
    "                                'end_time': int(s) + int(task_durs_per_instance[instance_id][i])\n",
    "                            }\n",
    "                        for i, s in enumerate(previous_row[4:])\n",
    "                        },\n",
    "                        'rcpsp_modes': [1 for _ in range(len(previous_row) - 4)],\n",
    "                        'rcpsp_schedule_feasible': True\n",
    "                    },\n",
    "                    'status': 'SATISFIED',\n",
    "                    'fit': {\n",
    "                        'makespan': int(previous_row[3]),\n",
    "                        'mean_resource_reserve': float('NaN')\n",
    "                    }\n",
    "                }\n",
    "            })\n",
    "            instance_id = int(row[0])\n",
    "        previous_row = row\n",
    "\n",
    "with open('cpsat_solutions.json', 'w') as jsonfile:\n",
    "    json.dump(cpsat_json_dict, jsonfile, indent=2)"
   ]
  },
  {
   "cell_type": "code",
   "execution_count": null,
   "metadata": {},
   "outputs": [],
   "source": []
  }
 ],
 "metadata": {
  "interpreter": {
   "hash": "15bb3ea2ec4a8b1a5a8aac58f04f3ebbb46942042221e8547ea273329fc9236f"
  },
  "kernelspec": {
   "display_name": "Python 3.8.5 ('gnn4rcpsp')",
   "language": "python",
   "name": "python3"
  },
  "language_info": {
   "codemirror_mode": {
    "name": "ipython",
    "version": 3
   },
   "file_extension": ".py",
   "mimetype": "text/x-python",
   "name": "python",
   "nbconvert_exporter": "python",
   "pygments_lexer": "ipython3",
   "version": "3.8.5"
  },
  "orig_nbformat": 4
 },
 "nbformat": 4,
 "nbformat_minor": 2
}
